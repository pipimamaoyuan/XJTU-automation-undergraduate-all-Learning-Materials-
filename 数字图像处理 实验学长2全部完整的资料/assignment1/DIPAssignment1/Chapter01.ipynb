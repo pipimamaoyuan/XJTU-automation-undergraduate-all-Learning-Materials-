{
 "cells": [
  {
   "cell_type": "code",
   "execution_count": 1,
   "metadata": {
    "collapsed": true
   },
   "outputs": [],
   "source": [
    "import cv2\n",
    "import numpy as np"
   ]
  },
  {
   "cell_type": "code",
   "execution_count": 2,
   "outputs": [
    {
     "name": "stdout",
     "output_type": "stream",
     "text": [
      "[[137 137 137 ... 148 130  99]\n",
      " [137 137 137 ... 148 130  99]\n",
      " [137 137 137 ... 148 130  99]\n",
      " ...\n",
      " [ 18  18  27 ...  73  68  62]\n",
      " [ 22  22  32 ...  70  71  74]\n",
      " [ 22  22  32 ...  70  71  74]]\n"
     ]
    },
    {
     "data": {
      "text/plain": "-1"
     },
     "execution_count": 2,
     "metadata": {},
     "output_type": "execute_result"
    }
   ],
   "source": [
    "# 把lena 512*512图像灰度级逐级递减8-1显示\n",
    "img = cv2.imread(\"Resource/lena.bmp\", flags=cv2.IMREAD_GRAYSCALE)\n",
    "print(img)\n",
    "\n",
    "cv2.imshow(\"Image\", img)\n",
    "cv2.waitKey(0)"
   ],
   "metadata": {
    "collapsed": false,
    "pycharm": {
     "name": "#%%\n"
    }
   }
  },
  {
   "cell_type": "code",
   "execution_count": 3,
   "outputs": [],
   "source": [
    "# 可以改变图片大小的堆叠函数，参考https://github.com/murtazahassan/Learn-OpenCV-in-3-hours\n",
    "def stackImages(scale, imgArray):\n",
    "    rows = len(imgArray)\n",
    "    cols = len(imgArray[0])\n",
    "    rowsAvailable = isinstance(imgArray[0], list)\n",
    "    width = imgArray[0][0].shape[1]\n",
    "    height = imgArray[0][0].shape[0]\n",
    "    if rowsAvailable:\n",
    "        for x in range ( 0, rows):\n",
    "            for y in range(0, cols):\n",
    "                if imgArray[x][y].shape[:2] == imgArray[0][0].shape [:2]:\n",
    "                    imgArray[x][y] = cv2.resize(imgArray[x][y], (0, 0), None, scale, scale)\n",
    "                else:\n",
    "                    imgArray[x][y] = cv2.resize(imgArray[x][y], (imgArray[0][0].shape[1], imgArray[0][0].shape[0]), None, scale, scale)\n",
    "                if len(imgArray[x][y].shape) == 2: imgArray[x][y]= cv2.cvtColor( imgArray[x][y], cv2.COLOR_GRAY2BGR)\n",
    "        imageBlank = np.zeros((height, width, 3), np.uint8)\n",
    "        hor = [imageBlank]*rows\n",
    "        hor_con = [imageBlank]*rows\n",
    "        for x in range(0, rows):\n",
    "            hor[x] = np.hstack(imgArray[x])\n",
    "        ver = np.vstack(hor)\n",
    "    else:\n",
    "        for x in range(0, rows):\n",
    "            if imgArray[x].shape[:2] == imgArray[0].shape[:2]:\n",
    "                imgArray[x] = cv2.resize(imgArray[x], (0, 0), None, scale, scale)\n",
    "            else:\n",
    "                imgArray[x] = cv2.resize(imgArray[x], (imgArray[0].shape[1], imgArray[0].shape[0]), None,scale, scale)\n",
    "            if len(imgArray[x].shape) == 2: imgArray[x] = cv2.cvtColor(imgArray[x], cv2.COLOR_GRAY2BGR)\n",
    "        hor= np.hstack(imgArray)\n",
    "        ver = hor\n",
    "    return ver"
   ],
   "metadata": {
    "collapsed": false,
    "pycharm": {
     "name": "#%%\n"
    }
   }
  },
  {
   "cell_type": "code",
   "execution_count": 9,
   "outputs": [
    {
     "data": {
      "text/plain": "-1"
     },
     "execution_count": 9,
     "metadata": {},
     "output_type": "execute_result"
    }
   ],
   "source": [
    "# 四舍五入取整\n",
    "# img7 = np.array(np.around(img / 2) * 2, dtype=np.uint8)\n",
    "# img6 = np.array(np.around(img / 4) * 4, dtype=np.uint8)\n",
    "# img5 = np.array(np.around(img / 8) * 8, dtype=np.uint8)\n",
    "# img4 = np.array(np.around(img / 16) * 16, dtype=np.uint8)\n",
    "# img3 = np.array(np.around(img / 32) * 32, dtype=np.uint8)\n",
    "# img2 = np.array(np.around(img / 64) * 64, dtype=np.uint8)\n",
    "# img1 = np.array(np.around(img / 128) * 128, dtype=np.uint8)\n",
    "\n",
    "# 截断取整\n",
    "img7 = np.array(np.floor(img / 2) * 2, dtype=np.uint8)\n",
    "img6 = np.array(np.floor(img / 4) * 4, dtype=np.uint8)\n",
    "img5 = np.array(np.floor(img / 8) * 8, dtype=np.uint8)\n",
    "img4 = np.array(np.floor(img / 16) * 16, dtype=np.uint8)\n",
    "img3 = np.array(np.floor(img / 32) * 32, dtype=np.uint8)\n",
    "img2 = np.array(np.floor(img / 64) * 64, dtype=np.uint8)\n",
    "img1 = np.array(np.floor(img / 128) * 128, dtype=np.uint8)\n",
    "\n",
    "imgStack = stackImages(0.5, ([img, img7, img6, img5], [img4, img3, img2, img1]))\n",
    "cv2.imshow(\"ImgStack\", imgStack)\n",
    "cv2.waitKey(0)"
   ],
   "metadata": {
    "collapsed": false,
    "pycharm": {
     "name": "#%%\n"
    }
   }
  },
  {
   "cell_type": "code",
   "execution_count": 5,
   "outputs": [
    {
     "name": "stdout",
     "output_type": "stream",
     "text": [
      "[[99.05121613]]\n",
      "[[52.87751733]]\n"
     ]
    }
   ],
   "source": [
    "# 计算图像均值和方差\n",
    "imgOriginal = cv2.imread(\"Resource/lena.bmp\", flags=cv2.IMREAD_UNCHANGED)\n",
    "mean, stddev = cv2.meanStdDev(imgOriginal)\n",
    "print(mean)\n",
    "print(stddev)"
   ],
   "metadata": {
    "collapsed": false,
    "pycharm": {
     "name": "#%%\n"
    }
   }
  },
  {
   "cell_type": "code",
   "execution_count": 7,
   "outputs": [
    {
     "data": {
      "text/plain": "array([2796.03183888])"
     },
     "execution_count": 7,
     "metadata": {},
     "output_type": "execute_result"
    }
   ],
   "source": [
    "stddev[0] * stddev[0]"
   ],
   "metadata": {
    "collapsed": false,
    "pycharm": {
     "name": "#%%\n"
    }
   }
  },
  {
   "cell_type": "code",
   "execution_count": 53,
   "outputs": [
    {
     "data": {
      "text/plain": "True"
     },
     "execution_count": 53,
     "metadata": {},
     "output_type": "execute_result"
    }
   ],
   "source": [
    "# zoom(resize) 图像\n",
    "img = cv2.imread(\"Resource/lena.bmp\")\n",
    "imgNear = cv2.resize(imgOriginal, (2048, 2048), interpolation=cv2.INTER_NEAREST)  # 近邻插值\n",
    "imgBilinear = cv2.resize(imgOriginal, (2048, 2048), interpolation=cv2.INTER_LINEAR)  # 双线性插值\n",
    "imgBicubic = cv2.resize(imgOriginal, (2048, 2048), interpolation=cv2.INTER_CUBIC)  # 双三次插值\n",
    "\n",
    "cv2.imwrite(\"Output/imgNear.bmp\", imgNear)\n",
    "cv2.imwrite(\"Output/imgBilinear.bmp\", imgBilinear)\n",
    "cv2.imwrite(\"Output/imgBicubic.bmp\", imgBicubic)"
   ],
   "metadata": {
    "collapsed": false,
    "pycharm": {
     "name": "#%%\n"
    }
   }
  },
  {
   "cell_type": "code",
   "execution_count": 2,
   "outputs": [
    {
     "data": {
      "text/plain": "True"
     },
     "execution_count": 2,
     "metadata": {},
     "output_type": "execute_result"
    }
   ],
   "source": [
    "# 图像shearing后resize至2048*2048\n",
    "lena = cv2.imread(\"Resource/lena.bmp\", cv2.IMREAD_UNCHANGED)\n",
    "elain = cv2.imread(\"Resource/elain1.bmp\", cv2.IMREAD_UNCHANGED)\n",
    "\n",
    "shearMatrix = np.float32([[1, 1.5, 0], [0, 1, 0], [0, 0, 1]])\n",
    "shearedLenaNear = cv2.warpPerspective(lena, shearMatrix, dsize=(2048, 2048), flags=cv2.INTER_NEAREST)\n",
    "shearedElainNear = cv2.warpPerspective(elain, shearMatrix, dsize=(2048, 2048), flags=cv2.INTER_NEAREST)\n",
    "cv2.imwrite(\"Output/shearedLenaNear.bmp\", shearedLenaNear)\n",
    "cv2.imwrite(\"Output/shearedElainNear.bmp\", shearedElainNear)\n",
    "\n",
    "shearedLenaLinear = cv2.warpPerspective(lena, shearMatrix, dsize=(2048, 2048), flags=cv2.INTER_LINEAR)\n",
    "shearedElainLinear = cv2.warpPerspective(elain, shearMatrix, dsize=(2048, 2048), flags=cv2.INTER_LINEAR)\n",
    "cv2.imwrite(\"Output/shearedLenaLinear.bmp\", shearedLenaLinear)\n",
    "cv2.imwrite(\"Output/shearedElainLinear.bmp\", shearedElainLinear)\n",
    "\n",
    "shearedLenaCubic = cv2.warpPerspective(lena, shearMatrix, dsize=(2048, 2048), flags=cv2.INTER_CUBIC)\n",
    "shearedElainCubic = cv2.warpPerspective(elain, shearMatrix, dsize=(2048, 2048), flags=cv2.INTER_CUBIC)\n",
    "cv2.imwrite(\"Output/shearedLenaCubic.bmp\", shearedLenaCubic)\n",
    "cv2.imwrite(\"Output/shearedElainCubic.bmp\", shearedElainCubic)"
   ],
   "metadata": {
    "collapsed": false,
    "pycharm": {
     "name": "#%%\n"
    }
   }
  },
  {
   "cell_type": "code",
   "execution_count": 3,
   "outputs": [
    {
     "data": {
      "text/plain": "True"
     },
     "execution_count": 3,
     "metadata": {},
     "output_type": "execute_result"
    }
   ],
   "source": [
    "# 图像旋转\n",
    "def rotate(image, angle, rotPoint=None):\n",
    "    (height, width) = image.shape[:2]\n",
    "\n",
    "    if rotPoint is None:\n",
    "        rotPoint = (width//2, height//2)\n",
    "\n",
    "    rotMat = cv2.getRotationMatrix2D(rotPoint, angle, scale=1.0)\n",
    "    dimensions = [width, height]\n",
    "    # dimensions = [2048, 2048]\n",
    "\n",
    "    return cv2.warpAffine(image, rotMat, dimensions)\n",
    "\n",
    "\n",
    "rotatedLena = rotate(lena, 30)\n",
    "rotatedLenaNear = cv2.resize(rotatedLena, (2048, 2048), interpolation=cv2.INTER_NEAREST)\n",
    "rotatedLenaLinear = cv2.resize(rotatedLena, (2048, 2048), interpolation=cv2.INTER_LINEAR)\n",
    "rotatedLenaCubic = cv2.resize(rotatedLena, (2048, 2048), interpolation=cv2.INTER_CUBIC)\n",
    "cv2.imwrite(\"Output/rotatedLenaNear.bmp\", rotatedLenaNear)\n",
    "cv2.imwrite(\"Output/rotatedLenaLinear.bmp\", rotatedLenaLinear)\n",
    "cv2.imwrite(\"Output/rotatedLenaCubic.bmp\", rotatedLenaCubic)\n",
    "\n",
    "rotatedElain = rotate(elain, 30)\n",
    "rotatedElainNear = cv2.resize(rotatedElain, (2048, 2048), interpolation=cv2.INTER_NEAREST)\n",
    "rotatedElainLinear = cv2.resize(rotatedElain, (2048, 2048), interpolation=cv2.INTER_LINEAR)\n",
    "rotatedElainCubic = cv2.resize(rotatedElain, (2048, 2048), interpolation=cv2.INTER_CUBIC)\n",
    "cv2.imwrite(\"Output/rotatedElainNear.bmp\", rotatedElainNear)\n",
    "cv2.imwrite(\"Output/rotatedElainLinear.bmp\", rotatedElainLinear)\n",
    "cv2.imwrite(\"Output/rotatedElainCubic.bmp\", rotatedElainCubic)"
   ],
   "metadata": {
    "collapsed": false,
    "pycharm": {
     "name": "#%%\n"
    }
   }
  }
 ],
 "metadata": {
  "kernelspec": {
   "display_name": "Python 3",
   "language": "python",
   "name": "python3"
  },
  "language_info": {
   "codemirror_mode": {
    "name": "ipython",
    "version": 2
   },
   "file_extension": ".py",
   "mimetype": "text/x-python",
   "name": "python",
   "nbconvert_exporter": "python",
   "pygments_lexer": "ipython2",
   "version": "2.7.6"
  }
 },
 "nbformat": 4,
 "nbformat_minor": 0
}